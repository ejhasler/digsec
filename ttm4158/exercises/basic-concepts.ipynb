{
 "cells": [
  {
   "cell_type": "markdown",
   "id": "c6d0f6f7",
   "metadata": {},
   "source": [
    "# 1 Exercise: Basic Concepts\n",
    "\n",
    "## Task 1.1 Basic calculation and plotting"
   ]
  },
  {
   "cell_type": "code",
   "execution_count": 12,
   "id": "1d5d4562",
   "metadata": {},
   "outputs": [],
   "source": [
    "\n",
    "\n",
    "import numpy as np\n",
    "import math as m\n",
    "import matplotlib.pyplot as plt\n"
   ]
  },
  {
   "cell_type": "code",
   "execution_count": null,
   "id": "b83040ec",
   "metadata": {},
   "outputs": [],
   "source": []
  },
  {
   "cell_type": "code",
   "execution_count": null,
   "id": "e63d6e9f",
   "metadata": {},
   "outputs": [],
   "source": []
  },
  {
   "cell_type": "markdown",
   "id": "cf22359c",
   "metadata": {},
   "source": [
    "## Task 1.2 Probability Theory: Fotball Scenario\n",
    "\n",
    "We will start by defining a poisson proccess:\n"
   ]
  },
  {
   "cell_type": "code",
   "execution_count": 13,
   "id": "74f75e05",
   "metadata": {},
   "outputs": [
    {
     "name": "stdout",
     "output_type": "stream",
     "text": [
      "0.25102143016698353\n",
      "0.12551071508349174\n"
     ]
    }
   ],
   "source": [
    "mu = 0.75 # The expected number of goals per match\n",
    "lam = 0.5 # Poisson process intensity\n",
    "k1 = 2 #number of goals\n",
    "\n",
    "mu2 = mu*2 #Expected numbers of goals in two poisson processes\n",
    "\n",
    "\n",
    "\n",
    "P_2goals = (np.exp(-mu2)*mu2**k1)/(m.factorial(k1)) #probability of two goals during the match\n",
    "print(P_2goals)\n",
    "\n",
    "\n",
    "# Task b\n",
    "# We will calculate the probability of both Norway and Sweeden scores 1 goal each\n",
    "k2 = 1 #number of goals for norway\n",
    "\n",
    "P_1goal = (np.exp(-mu)*mu**k2)/(m.factorial(k2)) #probability of one goal during the match\n",
    "\n",
    "\n",
    "P_even = P_1goal*P_1goal #probability of both teams scoring one goal each\n",
    "print(P_even)\n",
    "\n"
   ]
  },
  {
   "cell_type": "markdown",
   "id": "25a19b22",
   "metadata": {},
   "source": []
  },
  {
   "cell_type": "code",
   "execution_count": null,
   "id": "0b07fca4",
   "metadata": {},
   "outputs": [],
   "source": []
  },
  {
   "cell_type": "code",
   "execution_count": null,
   "id": "14ce86f5",
   "metadata": {},
   "outputs": [],
   "source": []
  }
 ],
 "metadata": {
  "kernelspec": {
   "display_name": ".venv",
   "language": "python",
   "name": "python3"
  },
  "language_info": {
   "codemirror_mode": {
    "name": "ipython",
    "version": 3
   },
   "file_extension": ".py",
   "mimetype": "text/x-python",
   "name": "python",
   "nbconvert_exporter": "python",
   "pygments_lexer": "ipython3",
   "version": "3.13.7"
  }
 },
 "nbformat": 4,
 "nbformat_minor": 5
}
