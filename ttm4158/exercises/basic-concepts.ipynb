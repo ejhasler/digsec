{
 "cells": [
  {
   "cell_type": "markdown",
   "id": "c6d0f6f7",
   "metadata": {},
   "source": [
    "# 1 Exercise: Basic Concepts\n",
    "\n",
    "## Task 1.1 Basic calculation and plotting"
   ]
  },
  {
   "cell_type": "code",
   "execution_count": null,
   "id": "1d5d4562",
   "metadata": {},
   "outputs": [],
   "source": []
  }
 ],
 "metadata": {
  "language_info": {
   "name": "python"
  }
 },
 "nbformat": 4,
 "nbformat_minor": 5
}
