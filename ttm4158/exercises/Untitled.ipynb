{
 "cells": [
  {
   "cell_type": "code",
   "execution_count": 1,
   "id": "e57f4fd3-ec43-4757-b663-e2ff79ac65ba",
   "metadata": {},
   "outputs": [],
   "source": [
    "import numpy as np\n",
    "import math as m\n",
    "import matplotlib.pyplot as plt"
   ]
  },
  {
   "cell_type": "raw",
   "id": "325a154a-66f6-49cf-a5d5-90f3797987e2",
   "metadata": {},
   "source": [
    "To model the average total number of students for each program we can use Little's Theorem.\n",
    "l_i = lam_i * w_i\n",
    "Where i represents each study program."
   ]
  },
  {
   "cell_type": "code",
   "execution_count": 34,
   "id": "5222ede1-9422-4619-9f1e-feb3b4526514",
   "metadata": {},
   "outputs": [
    {
     "name": "stdout",
     "output_type": "stream",
     "text": [
      "a) \n",
      "The average number of students for each study program is: \n",
      " BDIGSEC = 157.5 \n",
      " MTKOM = 432 \n",
      " MDIGSEC = 70.0 \n",
      " MIS = 57.5 \n",
      " PhD = 20 \n",
      "\n",
      "The total number of average students at the department is 737.0\n"
     ]
    }
   ],
   "source": [
    "l_bdigsec = 45*3.5\n",
    "l_mtkom = 72*6\n",
    "l_mdigsec = 28*2.5\n",
    "l_mis = 23*2.5\n",
    "l_phd = 5*4\n",
    "print(f\"a) \\nThe average number of students for each study program is: \\n BDIGSEC = {l_bdigsec} \\n MTKOM = {l_mtkom} \\n MDIGSEC = {l_mdigsec} \\n MIS = {l_mis} \\n PhD = {l_phd} \\n\")\n",
    "\n",
    "l_sum = l_bdigsec + l_mtkom + l_mdigsec + l_mis + l_phd\n",
    "print(f\"The total number of average students at the department is {l_sum}\")"
   ]
  },
  {
   "cell_type": "raw",
   "id": "01cd3a1a-84d2-4900-835e-c4bc4655d05c",
   "metadata": {},
   "source": [
    "To find the average number of students admitted to the entire department in a given year, we can sum the average students arriving to each study program."
   ]
  },
  {
   "cell_type": "code",
   "execution_count": 32,
   "id": "1112e93d-2704-447b-8150-d29fcef76ade",
   "metadata": {},
   "outputs": [
    {
     "name": "stdout",
     "output_type": "stream",
     "text": [
      "b) \n",
      "Average number of students arriving each year is 173\n"
     ]
    }
   ],
   "source": [
    "lam_sum = 45 + 72 + 28 + 23 + 5\n",
    "print(f\"b) \\nAverage number of students arriving each year is {lam_sum}\")"
   ]
  },
  {
   "cell_type": "raw",
   "id": "40416d04-66eb-439c-9fe5-8cf57f36187b",
   "metadata": {},
   "source": [
    "The average time spent by a student in the department can be found by calculating\n",
    "w_hat = l_sum / lam_sum"
   ]
  },
  {
   "cell_type": "code",
   "execution_count": 40,
   "id": "191505ec-6c34-461f-a2af-3dedcb29da51",
   "metadata": {},
   "outputs": [
    {
     "name": "stdout",
     "output_type": "stream",
     "text": [
      "c) \n",
      "Average time spent by a student is 4.2601156069364166\n"
     ]
    }
   ],
   "source": [
    "w_hat = l_sum / lam_sum\n",
    "print(f\"c) \\nAverage time spent by a student is {w_hat}\")"
   ]
  }
 ],
 "metadata": {
  "kernelspec": {
   "display_name": "Python 3 (ipykernel)",
   "language": "python",
   "name": "python3"
  },
  "language_info": {
   "codemirror_mode": {
    "name": "ipython",
    "version": 3
   },
   "file_extension": ".py",
   "mimetype": "text/x-python",
   "name": "python",
   "nbconvert_exporter": "python",
   "pygments_lexer": "ipython3",
   "version": "3.12.11"
  }
 },
 "nbformat": 4,
 "nbformat_minor": 5
}
